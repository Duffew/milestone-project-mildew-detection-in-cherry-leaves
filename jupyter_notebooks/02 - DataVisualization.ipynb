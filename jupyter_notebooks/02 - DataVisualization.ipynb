{
 "cells": [
  {
   "cell_type": "markdown",
   "id": "b0a4332f",
   "metadata": {},
   "source": [
    "# **Data Visualization Notebook**"
   ]
  },
  {
   "cell_type": "markdown",
   "id": "e4a34b5b",
   "metadata": {},
   "source": [
    "## Objectives\n",
    "\n",
    "- Address business requiremenent 1:\n",
    "    - The client is interested in conducting a study to visually differentiate a cherry leaf that is healthy from one that contains powdery mildew.\n",
    "\n",
    "## Inputs\n",
    "\n",
    "This notebook will use the following inputs:\n",
    "- inputs\\cherry-leaves\\cherry-leaves\\test\n",
    "- inputs\\cherry-leaves\\cherry-leaves\\train\n",
    "- inputs\\cherry-leaves\\cherry-leaves\\validation\n",
    "\n",
    "## Outputs\n",
    "\n",
    "This notebook will generate the following outputs:\n",
    "- A pickle file storing image shape embeddings (image data stored as a numercal representation) \n",
    "- Plots that show the mean (average) image and variability of images for each label\n",
    "- A plot to show the difference beween healthy leaves and mildewed leaves\n",
    "- Code to address business requirement 1 and build an image montage"
   ]
  },
  {
   "cell_type": "markdown",
   "id": "1661bb87",
   "metadata": {},
   "source": [
    "## Set the Data Visualisazation Directories"
   ]
  },
  {
   "cell_type": "markdown",
   "id": "5652bb44",
   "metadata": {},
   "source": [
    "### Import the required libraries"
   ]
  },
  {
   "cell_type": "code",
   "execution_count": 1,
   "id": "581053f1",
   "metadata": {},
   "outputs": [],
   "source": [
    "import os\n",
    "import pandas as pd\n",
    "import numpy as np\n",
    "import matplotlib.pyplot as plt\n",
    "import seaborn as sns\n",
    "import joblib\n",
    "sns.set_style(\"white\")\n",
    "from matplotlib.image import imread"
   ]
  },
  {
   "cell_type": "markdown",
   "id": "2ca51c2c",
   "metadata": {},
   "source": [
    "### Set the working directory\n",
    "\n",
    "Identify the current working directory"
   ]
  },
  {
   "cell_type": "code",
   "execution_count": 2,
   "id": "7701cf4e",
   "metadata": {},
   "outputs": [
    {
     "data": {
      "text/plain": [
       "'/workspaces/milestone-project-mildew-detection-in-cherry-leaves/jupyter_notebooks'"
      ]
     },
     "execution_count": 2,
     "metadata": {},
     "output_type": "execute_result"
    }
   ],
   "source": [
    "current_dir = os.getcwd()\n",
    "current_dir"
   ]
  },
  {
   "cell_type": "markdown",
   "id": "a5df5fe5",
   "metadata": {},
   "source": [
    "Set a new working directory"
   ]
  },
  {
   "cell_type": "code",
   "execution_count": 3,
   "id": "66fcc950",
   "metadata": {},
   "outputs": [
    {
     "name": "stdout",
     "output_type": "stream",
     "text": [
      "You set a new current directory\n"
     ]
    }
   ],
   "source": [
    "os.chdir(os.path.dirname(current_dir))\n",
    "print(\"You set a new current directory\")"
   ]
  },
  {
   "cell_type": "markdown",
   "id": "fffd5471",
   "metadata": {},
   "source": [
    "Check the new working directory"
   ]
  },
  {
   "cell_type": "code",
   "execution_count": 4,
   "id": "8d141ec0",
   "metadata": {},
   "outputs": [
    {
     "data": {
      "text/plain": [
       "'/workspaces/milestone-project-mildew-detection-in-cherry-leaves'"
      ]
     },
     "execution_count": 4,
     "metadata": {},
     "output_type": "execute_result"
    }
   ],
   "source": [
    "current_dir = os.getcwd()\n",
    "current_dir"
   ]
  },
  {
   "cell_type": "markdown",
   "id": "c73cfe8f",
   "metadata": {},
   "source": [
    "### Set the input directories"
   ]
  },
  {
   "cell_type": "markdown",
   "id": "05c6d1a6",
   "metadata": {},
   "source": [
    "Establish the train, test and validation directory paths"
   ]
  },
  {
   "cell_type": "code",
   "execution_count": 5,
   "id": "1a295112",
   "metadata": {},
   "outputs": [],
   "source": [
    "image_data = 'inputs/cherry-leaves/cherry-leaves'\n",
    "train_path = image_data + '/train'\n",
    "val_path = image_data + '/validation'\n",
    "test_path = image_data + '/test'"
   ]
  },
  {
   "cell_type": "markdown",
   "id": "356db3bb",
   "metadata": {},
   "source": [
    "Set the ouptut directory"
   ]
  },
  {
   "cell_type": "code",
   "execution_count": 6,
   "id": "dbd39871",
   "metadata": {},
   "outputs": [
    {
     "name": "stdout",
     "output_type": "stream",
     "text": [
      "Created new directory: /workspaces/milestone-project-mildew-detection-in-cherry-leaves/outputs/v1\n"
     ]
    }
   ],
   "source": [
    "# Define the version of the output directory\n",
    "version = 'v1'\n",
    "current_dir = os.getcwd()  # Get the current working directory\n",
    "\n",
    "# Construct the full path for the versioned output folder\n",
    "file_path = os.path.join(current_dir, 'outputs', version)\n",
    "\n",
    "# Check if the directory for this version already exists\n",
    "if os.path.exists(file_path):\n",
    "    print(f'Old version \"{version}\" already exists. Create a new version.')\n",
    "else:\n",
    "    try:\n",
    "        # Create the directory if it doesn't exist, `exist_ok=True` prevents errors if it already exists\n",
    "        os.makedirs(file_path, exist_ok=True)\n",
    "        print(f'Created new directory: {file_path}')\n",
    "    except OSError as e:\n",
    "        # Print an error message if directory creation fails\n",
    "        print(f'Error creating directory: {e}')"
   ]
  },
  {
   "cell_type": "markdown",
   "id": "afbba8dd",
   "metadata": {},
   "source": [
    "### Set the label names\n",
    "\n",
    "Labels should be 'healthy' and 'powdery_mildew'."
   ]
  },
  {
   "cell_type": "code",
   "execution_count": 7,
   "id": "7a6e3465",
   "metadata": {},
   "outputs": [
    {
     "name": "stdout",
     "output_type": "stream",
     "text": [
      "The labels for the images are ['healthy', 'powdery_mildew']\n"
     ]
    }
   ],
   "source": [
    "# Set the labels\n",
    "labels = os.listdir(train_path)\n",
    "print('The labels for the images are', labels)"
   ]
  }
 ],
 "metadata": {
  "kernelspec": {
   "display_name": "3.12.1",
   "language": "python",
   "name": "python3"
  },
  "language_info": {
   "codemirror_mode": {
    "name": "ipython",
    "version": 3
   },
   "file_extension": ".py",
   "mimetype": "text/x-python",
   "name": "python",
   "nbconvert_exporter": "python",
   "pygments_lexer": "ipython3",
   "version": "3.12.1"
  }
 },
 "nbformat": 4,
 "nbformat_minor": 5
}
