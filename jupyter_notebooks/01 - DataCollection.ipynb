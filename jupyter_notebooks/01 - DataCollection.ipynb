{
  "cells": [
    {
      "cell_type": "markdown",
      "metadata": {
        "id": "0aStgWSO0E0E"
      },
      "source": [
        "# **Data Collection**"
      ]
    },
    {
      "cell_type": "markdown",
      "metadata": {
        "id": "1eLEkw5O0ECa"
      },
      "source": [
        "\n",
        "## Objectives\n",
        "\n",
        "- Download data from Kaggle and prepare it for processing\n",
        "\n",
        "## Inputs\n",
        "\n",
        "- kaggle.json - authntication token\n",
        "- dataset - images\n",
        "\n",
        "## Outputs\n",
        "\n",
        "- Generated dataset: inputs/datasets/mildew_dataset\n",
        "- Split dataset - train, test, validation\n",
        "\n",
        "\n"
      ]
    },
    {
      "cell_type": "markdown",
      "metadata": {
        "id": "9uWZXH9LwoQg"
      },
      "source": [
        "---"
      ]
    },
    {
      "cell_type": "markdown",
      "metadata": {
        "id": "cqP-UeN-z3i2"
      },
      "source": [
        "# Change working directory"
      ]
    },
    {
      "cell_type": "markdown",
      "metadata": {},
      "source": [
        "* We are assuming you will store the notebooks in a subfolder, therefore when running the notebook in the editor, you will need to change the working directory"
      ]
    },
    {
      "cell_type": "markdown",
      "metadata": {
        "id": "aOGIGS-uz3i2"
      },
      "source": [
        "We need to change the working directory from its current folder to its parent folder\n",
        "* We access the current directory with os.getcwd()"
      ]
    },
    {
      "cell_type": "code",
      "execution_count": 1,
      "metadata": {
        "id": "wZfF_j-Bz3i4",
        "outputId": "66943449-1436-4c3d-85c7-b85f9f78349b"
      },
      "outputs": [
        {
          "data": {
            "text/plain": [
              "'/workspaces/milestone-project-mildew-detection-in-cherry-leaves/jupyter_notebooks'"
            ]
          },
          "execution_count": 1,
          "metadata": {},
          "output_type": "execute_result"
        }
      ],
      "source": [
        "import os\n",
        "current_dir = os.getcwd()\n",
        "current_dir"
      ]
    },
    {
      "cell_type": "markdown",
      "metadata": {
        "id": "9MWW8E7lz3i7"
      },
      "source": [
        "We want to make the parent of the current directory the new current directory\n",
        "* os.path.dirname() gets the parent directory\n",
        "* os.chir() defines the new current directory"
      ]
    },
    {
      "cell_type": "code",
      "execution_count": 2,
      "metadata": {
        "id": "TwHsQRWjz3i9",
        "outputId": "86849db3-cd2f-4cc5-ebb8-2d0caafa1a2c"
      },
      "outputs": [
        {
          "name": "stdout",
          "output_type": "stream",
          "text": [
            "You set a new current directory\n"
          ]
        }
      ],
      "source": [
        "os.chdir(os.path.dirname(current_dir))\n",
        "print(\"You set a new current directory\")"
      ]
    },
    {
      "cell_type": "markdown",
      "metadata": {
        "id": "M_xPk_Ijz3i-"
      },
      "source": [
        "Confirm the new current directory"
      ]
    },
    {
      "cell_type": "code",
      "execution_count": 3,
      "metadata": {
        "id": "vz3S-_kjz3jA",
        "outputId": "00b79ae4-75d0-4a96-d193-ac9ef9847ea2"
      },
      "outputs": [
        {
          "data": {
            "text/plain": [
              "'/workspaces/milestone-project-mildew-detection-in-cherry-leaves'"
            ]
          },
          "execution_count": 3,
          "metadata": {},
          "output_type": "execute_result"
        }
      ],
      "source": [
        "current_dir = os.getcwd()\n",
        "current_dir"
      ]
    },
    {
      "cell_type": "markdown",
      "metadata": {
        "id": "-mavJ8DibrcQ"
      },
      "source": [
        "## Import packages"
      ]
    },
    {
      "cell_type": "markdown",
      "metadata": {},
      "source": [
        "Install the packages neccessary for running this project."
      ]
    },
    {
      "cell_type": "code",
      "execution_count": 4,
      "metadata": {},
      "outputs": [
        {
          "name": "stdout",
          "output_type": "stream",
          "text": [
            "Requirement already satisfied: numpy==1.26.1 in /home/cistudent/.local/lib/python3.12/site-packages (from -r /workspaces/milestone-project-mildew-detection-in-cherry-leaves/requirements.txt (line 1)) (1.26.1)\n",
            "Requirement already satisfied: pandas==2.1.1 in /home/cistudent/.local/lib/python3.12/site-packages (from -r /workspaces/milestone-project-mildew-detection-in-cherry-leaves/requirements.txt (line 2)) (2.1.1)\n",
            "Requirement already satisfied: matplotlib==3.8.0 in /home/cistudent/.local/lib/python3.12/site-packages (from -r /workspaces/milestone-project-mildew-detection-in-cherry-leaves/requirements.txt (line 3)) (3.8.0)\n",
            "Requirement already satisfied: seaborn==0.13.2 in /home/cistudent/.local/lib/python3.12/site-packages (from -r /workspaces/milestone-project-mildew-detection-in-cherry-leaves/requirements.txt (line 4)) (0.13.2)\n",
            "Requirement already satisfied: plotly==5.17.0 in /home/cistudent/.local/lib/python3.12/site-packages (from -r /workspaces/milestone-project-mildew-detection-in-cherry-leaves/requirements.txt (line 5)) (5.17.0)\n",
            "Requirement already satisfied: Pillow==10.0.1 in /home/cistudent/.local/lib/python3.12/site-packages (from -r /workspaces/milestone-project-mildew-detection-in-cherry-leaves/requirements.txt (line 6)) (10.0.1)\n",
            "Requirement already satisfied: streamlit==1.40.2 in /home/cistudent/.local/lib/python3.12/site-packages (from -r /workspaces/milestone-project-mildew-detection-in-cherry-leaves/requirements.txt (line 7)) (1.40.2)\n",
            "Requirement already satisfied: joblib==1.4.2 in /home/cistudent/.local/lib/python3.12/site-packages (from -r /workspaces/milestone-project-mildew-detection-in-cherry-leaves/requirements.txt (line 8)) (1.4.2)\n",
            "Requirement already satisfied: scikit-learn==1.3.1 in /home/cistudent/.local/lib/python3.12/site-packages (from -r /workspaces/milestone-project-mildew-detection-in-cherry-leaves/requirements.txt (line 9)) (1.3.1)\n",
            "Requirement already satisfied: tensorflow-cpu==2.16.1 in /home/cistudent/.local/lib/python3.12/site-packages (from -r /workspaces/milestone-project-mildew-detection-in-cherry-leaves/requirements.txt (line 10)) (2.16.1)\n",
            "Requirement already satisfied: keras>=3.0.0 in /home/cistudent/.local/lib/python3.12/site-packages (from -r /workspaces/milestone-project-mildew-detection-in-cherry-leaves/requirements.txt (line 11)) (3.9.2)\n",
            "Requirement already satisfied: python-dateutil>=2.8.2 in /home/cistudent/.pyenv/versions/3.12.1/lib/python3.12/site-packages (from pandas==2.1.1->-r /workspaces/milestone-project-mildew-detection-in-cherry-leaves/requirements.txt (line 2)) (2.9.0.post0)\n",
            "Requirement already satisfied: pytz>=2020.1 in /home/cistudent/.local/lib/python3.12/site-packages (from pandas==2.1.1->-r /workspaces/milestone-project-mildew-detection-in-cherry-leaves/requirements.txt (line 2)) (2025.2)\n",
            "Requirement already satisfied: tzdata>=2022.1 in /home/cistudent/.local/lib/python3.12/site-packages (from pandas==2.1.1->-r /workspaces/milestone-project-mildew-detection-in-cherry-leaves/requirements.txt (line 2)) (2025.2)\n",
            "Requirement already satisfied: contourpy>=1.0.1 in /home/cistudent/.local/lib/python3.12/site-packages (from matplotlib==3.8.0->-r /workspaces/milestone-project-mildew-detection-in-cherry-leaves/requirements.txt (line 3)) (1.3.2)\n",
            "Requirement already satisfied: cycler>=0.10 in /home/cistudent/.local/lib/python3.12/site-packages (from matplotlib==3.8.0->-r /workspaces/milestone-project-mildew-detection-in-cherry-leaves/requirements.txt (line 3)) (0.12.1)\n",
            "Requirement already satisfied: fonttools>=4.22.0 in /home/cistudent/.local/lib/python3.12/site-packages (from matplotlib==3.8.0->-r /workspaces/milestone-project-mildew-detection-in-cherry-leaves/requirements.txt (line 3)) (4.58.0)\n",
            "Requirement already satisfied: kiwisolver>=1.0.1 in /home/cistudent/.local/lib/python3.12/site-packages (from matplotlib==3.8.0->-r /workspaces/milestone-project-mildew-detection-in-cherry-leaves/requirements.txt (line 3)) (1.4.8)\n",
            "Requirement already satisfied: packaging>=20.0 in /home/cistudent/.pyenv/versions/3.12.1/lib/python3.12/site-packages (from matplotlib==3.8.0->-r /workspaces/milestone-project-mildew-detection-in-cherry-leaves/requirements.txt (line 3)) (24.2)\n",
            "Requirement already satisfied: pyparsing>=2.3.1 in /home/cistudent/.local/lib/python3.12/site-packages (from matplotlib==3.8.0->-r /workspaces/milestone-project-mildew-detection-in-cherry-leaves/requirements.txt (line 3)) (3.2.3)\n",
            "Requirement already satisfied: tenacity>=6.2.0 in /home/cistudent/.local/lib/python3.12/site-packages (from plotly==5.17.0->-r /workspaces/milestone-project-mildew-detection-in-cherry-leaves/requirements.txt (line 5)) (9.1.2)\n",
            "Requirement already satisfied: altair<6,>=4.0 in /home/cistudent/.local/lib/python3.12/site-packages (from streamlit==1.40.2->-r /workspaces/milestone-project-mildew-detection-in-cherry-leaves/requirements.txt (line 7)) (5.5.0)\n",
            "Requirement already satisfied: blinker<2,>=1.0.0 in /home/cistudent/.local/lib/python3.12/site-packages (from streamlit==1.40.2->-r /workspaces/milestone-project-mildew-detection-in-cherry-leaves/requirements.txt (line 7)) (1.9.0)\n",
            "Requirement already satisfied: cachetools<6,>=4.0 in /home/cistudent/.local/lib/python3.12/site-packages (from streamlit==1.40.2->-r /workspaces/milestone-project-mildew-detection-in-cherry-leaves/requirements.txt (line 7)) (5.5.2)\n",
            "Requirement already satisfied: click<9,>=7.0 in /home/cistudent/.local/lib/python3.12/site-packages (from streamlit==1.40.2->-r /workspaces/milestone-project-mildew-detection-in-cherry-leaves/requirements.txt (line 7)) (8.2.0)\n",
            "Requirement already satisfied: protobuf<6,>=3.20 in /home/cistudent/.local/lib/python3.12/site-packages (from streamlit==1.40.2->-r /workspaces/milestone-project-mildew-detection-in-cherry-leaves/requirements.txt (line 7)) (4.25.7)\n",
            "Requirement already satisfied: pyarrow>=7.0 in /home/cistudent/.local/lib/python3.12/site-packages (from streamlit==1.40.2->-r /workspaces/milestone-project-mildew-detection-in-cherry-leaves/requirements.txt (line 7)) (20.0.0)\n",
            "Requirement already satisfied: requests<3,>=2.27 in /home/cistudent/.pyenv/versions/3.12.1/lib/python3.12/site-packages (from streamlit==1.40.2->-r /workspaces/milestone-project-mildew-detection-in-cherry-leaves/requirements.txt (line 7)) (2.32.3)\n",
            "Requirement already satisfied: rich<14,>=10.14.0 in /home/cistudent/.pyenv/versions/3.12.1/lib/python3.12/site-packages (from streamlit==1.40.2->-r /workspaces/milestone-project-mildew-detection-in-cherry-leaves/requirements.txt (line 7)) (13.9.4)\n",
            "Requirement already satisfied: toml<2,>=0.10.1 in /home/cistudent/.local/lib/python3.12/site-packages (from streamlit==1.40.2->-r /workspaces/milestone-project-mildew-detection-in-cherry-leaves/requirements.txt (line 7)) (0.10.2)\n",
            "Requirement already satisfied: typing-extensions<5,>=4.3.0 in /home/cistudent/.pyenv/versions/3.12.1/lib/python3.12/site-packages (from streamlit==1.40.2->-r /workspaces/milestone-project-mildew-detection-in-cherry-leaves/requirements.txt (line 7)) (4.12.2)\n",
            "Requirement already satisfied: watchdog<7,>=2.1.5 in /home/cistudent/.local/lib/python3.12/site-packages (from streamlit==1.40.2->-r /workspaces/milestone-project-mildew-detection-in-cherry-leaves/requirements.txt (line 7)) (6.0.0)\n",
            "Requirement already satisfied: gitpython!=3.1.19,<4,>=3.0.7 in /home/cistudent/.local/lib/python3.12/site-packages (from streamlit==1.40.2->-r /workspaces/milestone-project-mildew-detection-in-cherry-leaves/requirements.txt (line 7)) (3.1.44)\n",
            "Requirement already satisfied: pydeck<1,>=0.8.0b4 in /home/cistudent/.local/lib/python3.12/site-packages (from streamlit==1.40.2->-r /workspaces/milestone-project-mildew-detection-in-cherry-leaves/requirements.txt (line 7)) (0.9.1)\n",
            "Requirement already satisfied: tornado<7,>=6.0.3 in /home/cistudent/.pyenv/versions/3.12.1/lib/python3.12/site-packages (from streamlit==1.40.2->-r /workspaces/milestone-project-mildew-detection-in-cherry-leaves/requirements.txt (line 7)) (6.4.2)\n",
            "Requirement already satisfied: scipy>=1.5.0 in /home/cistudent/.local/lib/python3.12/site-packages (from scikit-learn==1.3.1->-r /workspaces/milestone-project-mildew-detection-in-cherry-leaves/requirements.txt (line 9)) (1.15.3)\n",
            "Requirement already satisfied: threadpoolctl>=2.0.0 in /home/cistudent/.local/lib/python3.12/site-packages (from scikit-learn==1.3.1->-r /workspaces/milestone-project-mildew-detection-in-cherry-leaves/requirements.txt (line 9)) (3.6.0)\n",
            "Requirement already satisfied: absl-py>=1.0.0 in /home/cistudent/.local/lib/python3.12/site-packages (from tensorflow-cpu==2.16.1->-r /workspaces/milestone-project-mildew-detection-in-cherry-leaves/requirements.txt (line 10)) (2.2.2)\n",
            "Requirement already satisfied: astunparse>=1.6.0 in /home/cistudent/.local/lib/python3.12/site-packages (from tensorflow-cpu==2.16.1->-r /workspaces/milestone-project-mildew-detection-in-cherry-leaves/requirements.txt (line 10)) (1.6.3)\n",
            "Requirement already satisfied: flatbuffers>=23.5.26 in /home/cistudent/.local/lib/python3.12/site-packages (from tensorflow-cpu==2.16.1->-r /workspaces/milestone-project-mildew-detection-in-cherry-leaves/requirements.txt (line 10)) (25.2.10)\n",
            "Requirement already satisfied: gast!=0.5.0,!=0.5.1,!=0.5.2,>=0.2.1 in /home/cistudent/.local/lib/python3.12/site-packages (from tensorflow-cpu==2.16.1->-r /workspaces/milestone-project-mildew-detection-in-cherry-leaves/requirements.txt (line 10)) (0.6.0)\n",
            "Requirement already satisfied: google-pasta>=0.1.1 in /home/cistudent/.local/lib/python3.12/site-packages (from tensorflow-cpu==2.16.1->-r /workspaces/milestone-project-mildew-detection-in-cherry-leaves/requirements.txt (line 10)) (0.2.0)\n",
            "Requirement already satisfied: h5py>=3.10.0 in /home/cistudent/.local/lib/python3.12/site-packages (from tensorflow-cpu==2.16.1->-r /workspaces/milestone-project-mildew-detection-in-cherry-leaves/requirements.txt (line 10)) (3.13.0)\n",
            "Requirement already satisfied: libclang>=13.0.0 in /home/cistudent/.local/lib/python3.12/site-packages (from tensorflow-cpu==2.16.1->-r /workspaces/milestone-project-mildew-detection-in-cherry-leaves/requirements.txt (line 10)) (18.1.1)\n",
            "Requirement already satisfied: ml-dtypes~=0.3.1 in /home/cistudent/.local/lib/python3.12/site-packages (from tensorflow-cpu==2.16.1->-r /workspaces/milestone-project-mildew-detection-in-cherry-leaves/requirements.txt (line 10)) (0.3.2)\n",
            "Requirement already satisfied: opt-einsum>=2.3.2 in /home/cistudent/.local/lib/python3.12/site-packages (from tensorflow-cpu==2.16.1->-r /workspaces/milestone-project-mildew-detection-in-cherry-leaves/requirements.txt (line 10)) (3.4.0)\n",
            "Requirement already satisfied: setuptools in /home/cistudent/.pyenv/versions/3.12.1/lib/python3.12/site-packages (from tensorflow-cpu==2.16.1->-r /workspaces/milestone-project-mildew-detection-in-cherry-leaves/requirements.txt (line 10)) (75.6.0)\n",
            "Requirement already satisfied: six>=1.12.0 in /home/cistudent/.pyenv/versions/3.12.1/lib/python3.12/site-packages (from tensorflow-cpu==2.16.1->-r /workspaces/milestone-project-mildew-detection-in-cherry-leaves/requirements.txt (line 10)) (1.17.0)\n",
            "Requirement already satisfied: termcolor>=1.1.0 in /home/cistudent/.local/lib/python3.12/site-packages (from tensorflow-cpu==2.16.1->-r /workspaces/milestone-project-mildew-detection-in-cherry-leaves/requirements.txt (line 10)) (3.1.0)\n",
            "Requirement already satisfied: wrapt>=1.11.0 in /home/cistudent/.local/lib/python3.12/site-packages (from tensorflow-cpu==2.16.1->-r /workspaces/milestone-project-mildew-detection-in-cherry-leaves/requirements.txt (line 10)) (1.17.2)\n",
            "Requirement already satisfied: grpcio<2.0,>=1.24.3 in /home/cistudent/.local/lib/python3.12/site-packages (from tensorflow-cpu==2.16.1->-r /workspaces/milestone-project-mildew-detection-in-cherry-leaves/requirements.txt (line 10)) (1.71.0)\n",
            "Requirement already satisfied: tensorboard<2.17,>=2.16 in /home/cistudent/.local/lib/python3.12/site-packages (from tensorflow-cpu==2.16.1->-r /workspaces/milestone-project-mildew-detection-in-cherry-leaves/requirements.txt (line 10)) (2.16.2)\n",
            "Requirement already satisfied: namex in /home/cistudent/.local/lib/python3.12/site-packages (from keras>=3.0.0->-r /workspaces/milestone-project-mildew-detection-in-cherry-leaves/requirements.txt (line 11)) (0.0.9)\n",
            "Requirement already satisfied: optree in /home/cistudent/.local/lib/python3.12/site-packages (from keras>=3.0.0->-r /workspaces/milestone-project-mildew-detection-in-cherry-leaves/requirements.txt (line 11)) (0.15.0)\n",
            "Requirement already satisfied: jinja2 in /home/cistudent/.pyenv/versions/3.12.1/lib/python3.12/site-packages (from altair<6,>=4.0->streamlit==1.40.2->-r /workspaces/milestone-project-mildew-detection-in-cherry-leaves/requirements.txt (line 7)) (3.1.4)\n",
            "Requirement already satisfied: jsonschema>=3.0 in /home/cistudent/.pyenv/versions/3.12.1/lib/python3.12/site-packages (from altair<6,>=4.0->streamlit==1.40.2->-r /workspaces/milestone-project-mildew-detection-in-cherry-leaves/requirements.txt (line 7)) (4.23.0)\n",
            "Requirement already satisfied: narwhals>=1.14.2 in /home/cistudent/.local/lib/python3.12/site-packages (from altair<6,>=4.0->streamlit==1.40.2->-r /workspaces/milestone-project-mildew-detection-in-cherry-leaves/requirements.txt (line 7)) (1.38.2)\n",
            "Requirement already satisfied: wheel<1.0,>=0.23.0 in /home/cistudent/.pyenv/versions/3.12.1/lib/python3.12/site-packages (from astunparse>=1.6.0->tensorflow-cpu==2.16.1->-r /workspaces/milestone-project-mildew-detection-in-cherry-leaves/requirements.txt (line 10)) (0.45.1)\n",
            "Requirement already satisfied: gitdb<5,>=4.0.1 in /home/cistudent/.local/lib/python3.12/site-packages (from gitpython!=3.1.19,<4,>=3.0.7->streamlit==1.40.2->-r /workspaces/milestone-project-mildew-detection-in-cherry-leaves/requirements.txt (line 7)) (4.0.12)\n",
            "Requirement already satisfied: charset-normalizer<4,>=2 in /home/cistudent/.pyenv/versions/3.12.1/lib/python3.12/site-packages (from requests<3,>=2.27->streamlit==1.40.2->-r /workspaces/milestone-project-mildew-detection-in-cherry-leaves/requirements.txt (line 7)) (3.4.0)\n",
            "Requirement already satisfied: idna<4,>=2.5 in /home/cistudent/.pyenv/versions/3.12.1/lib/python3.12/site-packages (from requests<3,>=2.27->streamlit==1.40.2->-r /workspaces/milestone-project-mildew-detection-in-cherry-leaves/requirements.txt (line 7)) (3.10)\n",
            "Requirement already satisfied: urllib3<3,>=1.21.1 in /home/cistudent/.pyenv/versions/3.12.1/lib/python3.12/site-packages (from requests<3,>=2.27->streamlit==1.40.2->-r /workspaces/milestone-project-mildew-detection-in-cherry-leaves/requirements.txt (line 7)) (2.2.3)\n",
            "Requirement already satisfied: certifi>=2017.4.17 in /home/cistudent/.pyenv/versions/3.12.1/lib/python3.12/site-packages (from requests<3,>=2.27->streamlit==1.40.2->-r /workspaces/milestone-project-mildew-detection-in-cherry-leaves/requirements.txt (line 7)) (2024.12.14)\n",
            "Requirement already satisfied: markdown-it-py>=2.2.0 in /home/cistudent/.pyenv/versions/3.12.1/lib/python3.12/site-packages (from rich<14,>=10.14.0->streamlit==1.40.2->-r /workspaces/milestone-project-mildew-detection-in-cherry-leaves/requirements.txt (line 7)) (3.0.0)\n",
            "Requirement already satisfied: pygments<3.0.0,>=2.13.0 in /home/cistudent/.pyenv/versions/3.12.1/lib/python3.12/site-packages (from rich<14,>=10.14.0->streamlit==1.40.2->-r /workspaces/milestone-project-mildew-detection-in-cherry-leaves/requirements.txt (line 7)) (2.18.0)\n",
            "Requirement already satisfied: markdown>=2.6.8 in /home/cistudent/.local/lib/python3.12/site-packages (from tensorboard<2.17,>=2.16->tensorflow-cpu==2.16.1->-r /workspaces/milestone-project-mildew-detection-in-cherry-leaves/requirements.txt (line 10)) (3.8)\n",
            "Requirement already satisfied: tensorboard-data-server<0.8.0,>=0.7.0 in /home/cistudent/.local/lib/python3.12/site-packages (from tensorboard<2.17,>=2.16->tensorflow-cpu==2.16.1->-r /workspaces/milestone-project-mildew-detection-in-cherry-leaves/requirements.txt (line 10)) (0.7.2)\n",
            "Requirement already satisfied: werkzeug>=1.0.1 in /home/cistudent/.local/lib/python3.12/site-packages (from tensorboard<2.17,>=2.16->tensorflow-cpu==2.16.1->-r /workspaces/milestone-project-mildew-detection-in-cherry-leaves/requirements.txt (line 10)) (3.1.3)\n",
            "Requirement already satisfied: smmap<6,>=3.0.1 in /home/cistudent/.local/lib/python3.12/site-packages (from gitdb<5,>=4.0.1->gitpython!=3.1.19,<4,>=3.0.7->streamlit==1.40.2->-r /workspaces/milestone-project-mildew-detection-in-cherry-leaves/requirements.txt (line 7)) (5.0.2)\n",
            "Requirement already satisfied: MarkupSafe>=2.0 in /home/cistudent/.pyenv/versions/3.12.1/lib/python3.12/site-packages (from jinja2->altair<6,>=4.0->streamlit==1.40.2->-r /workspaces/milestone-project-mildew-detection-in-cherry-leaves/requirements.txt (line 7)) (3.0.2)\n",
            "Requirement already satisfied: attrs>=22.2.0 in /home/cistudent/.pyenv/versions/3.12.1/lib/python3.12/site-packages (from jsonschema>=3.0->altair<6,>=4.0->streamlit==1.40.2->-r /workspaces/milestone-project-mildew-detection-in-cherry-leaves/requirements.txt (line 7)) (24.3.0)\n",
            "Requirement already satisfied: jsonschema-specifications>=2023.03.6 in /home/cistudent/.pyenv/versions/3.12.1/lib/python3.12/site-packages (from jsonschema>=3.0->altair<6,>=4.0->streamlit==1.40.2->-r /workspaces/milestone-project-mildew-detection-in-cherry-leaves/requirements.txt (line 7)) (2024.10.1)\n",
            "Requirement already satisfied: referencing>=0.28.4 in /home/cistudent/.pyenv/versions/3.12.1/lib/python3.12/site-packages (from jsonschema>=3.0->altair<6,>=4.0->streamlit==1.40.2->-r /workspaces/milestone-project-mildew-detection-in-cherry-leaves/requirements.txt (line 7)) (0.35.1)\n",
            "Requirement already satisfied: rpds-py>=0.7.1 in /home/cistudent/.pyenv/versions/3.12.1/lib/python3.12/site-packages (from jsonschema>=3.0->altair<6,>=4.0->streamlit==1.40.2->-r /workspaces/milestone-project-mildew-detection-in-cherry-leaves/requirements.txt (line 7)) (0.22.3)\n",
            "Requirement already satisfied: mdurl~=0.1 in /home/cistudent/.pyenv/versions/3.12.1/lib/python3.12/site-packages (from markdown-it-py>=2.2.0->rich<14,>=10.14.0->streamlit==1.40.2->-r /workspaces/milestone-project-mildew-detection-in-cherry-leaves/requirements.txt (line 7)) (0.1.2)\n",
            "\n",
            "\u001b[1m[\u001b[0m\u001b[34;49mnotice\u001b[0m\u001b[1;39;49m]\u001b[0m\u001b[39;49m A new release of pip is available: \u001b[0m\u001b[31;49m24.3.1\u001b[0m\u001b[39;49m -> \u001b[0m\u001b[32;49m25.1.1\u001b[0m\n",
            "\u001b[1m[\u001b[0m\u001b[34;49mnotice\u001b[0m\u001b[1;39;49m]\u001b[0m\u001b[39;49m To update, run: \u001b[0m\u001b[32;49mpip install --upgrade pip\u001b[0m\n",
            "Note: you may need to restart the kernel to use updated packages.\n"
          ]
        }
      ],
      "source": [
        "%pip install -r /workspaces/milestone-project-mildew-detection-in-cherry-leaves/requirements.txt"
      ]
    },
    {
      "cell_type": "markdown",
      "metadata": {
        "id": "ZY3l0-AxO93d"
      },
      "source": [
        "---"
      ]
    },
    {
      "cell_type": "markdown",
      "metadata": {
        "id": "uFQo3ycuO-v6"
      },
      "source": [
        "## Install Kaggle"
      ]
    },
    {
      "cell_type": "markdown",
      "metadata": {},
      "source": [
        "Install kaggle to facilitate the downloading of image data from kaggle.com."
      ]
    },
    {
      "cell_type": "code",
      "execution_count": 5,
      "metadata": {},
      "outputs": [
        {
          "name": "stdout",
          "output_type": "stream",
          "text": [
            "Requirement already satisfied: kaggle==1.5.12 in /home/cistudent/.local/lib/python3.12/site-packages (1.5.12)\n",
            "Requirement already satisfied: six>=1.10 in /home/cistudent/.pyenv/versions/3.12.1/lib/python3.12/site-packages (from kaggle==1.5.12) (1.17.0)\n",
            "Requirement already satisfied: certifi in /home/cistudent/.pyenv/versions/3.12.1/lib/python3.12/site-packages (from kaggle==1.5.12) (2024.12.14)\n",
            "Requirement already satisfied: python-dateutil in /home/cistudent/.pyenv/versions/3.12.1/lib/python3.12/site-packages (from kaggle==1.5.12) (2.9.0.post0)\n",
            "Requirement already satisfied: requests in /home/cistudent/.pyenv/versions/3.12.1/lib/python3.12/site-packages (from kaggle==1.5.12) (2.32.3)\n",
            "Requirement already satisfied: tqdm in /home/cistudent/.local/lib/python3.12/site-packages (from kaggle==1.5.12) (4.67.1)\n",
            "Requirement already satisfied: python-slugify in /home/cistudent/.local/lib/python3.12/site-packages (from kaggle==1.5.12) (8.0.4)\n",
            "Requirement already satisfied: urllib3 in /home/cistudent/.pyenv/versions/3.12.1/lib/python3.12/site-packages (from kaggle==1.5.12) (2.2.3)\n",
            "Requirement already satisfied: text-unidecode>=1.3 in /home/cistudent/.local/lib/python3.12/site-packages (from python-slugify->kaggle==1.5.12) (1.3)\n",
            "Requirement already satisfied: charset-normalizer<4,>=2 in /home/cistudent/.pyenv/versions/3.12.1/lib/python3.12/site-packages (from requests->kaggle==1.5.12) (3.4.0)\n",
            "Requirement already satisfied: idna<4,>=2.5 in /home/cistudent/.pyenv/versions/3.12.1/lib/python3.12/site-packages (from requests->kaggle==1.5.12) (3.10)\n",
            "\n",
            "\u001b[1m[\u001b[0m\u001b[34;49mnotice\u001b[0m\u001b[1;39;49m]\u001b[0m\u001b[39;49m A new release of pip is available: \u001b[0m\u001b[31;49m24.3.1\u001b[0m\u001b[39;49m -> \u001b[0m\u001b[32;49m25.1.1\u001b[0m\n",
            "\u001b[1m[\u001b[0m\u001b[34;49mnotice\u001b[0m\u001b[1;39;49m]\u001b[0m\u001b[39;49m To update, run: \u001b[0m\u001b[32;49mpip install --upgrade pip\u001b[0m\n",
            "Note: you may need to restart the kernel to use updated packages.\n"
          ]
        }
      ],
      "source": [
        "# install kaggle package\n",
        "%pip install kaggle==1.5.12"
      ]
    },
    {
      "cell_type": "markdown",
      "metadata": {},
      "source": [
        "---"
      ]
    },
    {
      "cell_type": "markdown",
      "metadata": {},
      "source": [
        "### Change the Kaggle configuration directory to the current working directory and set permissions for the Kaggle authentication JSON."
      ]
    },
    {
      "cell_type": "markdown",
      "metadata": {},
      "source": [
        "Drag and drop your kaggle.json file from your computer into the root directory then follow the steps below."
      ]
    },
    {
      "cell_type": "markdown",
      "metadata": {},
      "source": [
        "#### Check that kaggle.json appears in the root directory"
      ]
    },
    {
      "cell_type": "code",
      "execution_count": 6,
      "metadata": {},
      "outputs": [
        {
          "name": "stdout",
          "output_type": "stream",
          "text": [
            "['.devcontainer', '.github', 'setup.sh', '.git', '.gitignore', '.slugignore', 'README.md', 'Procfile', 'requirements.txt', '.python-version', 'jupyter_notebooks', 'kaggle.json']\n"
          ]
        }
      ],
      "source": [
        "import os\n",
        "print(os.listdir())  # Should list `kaggle.json`"
      ]
    },
    {
      "cell_type": "markdown",
      "metadata": {},
      "source": [
        "#### Set Kaggle configuration directory"
      ]
    },
    {
      "cell_type": "code",
      "execution_count": 7,
      "metadata": {},
      "outputs": [
        {
          "name": "stdout",
          "output_type": "stream",
          "text": [
            "Kaggle config directory set to: /workspaces/milestone-project-mildew-detection-in-cherry-leaves\n"
          ]
        }
      ],
      "source": [
        "import os\n",
        "os.environ['KAGGLE_CONFIG_DIR'] = os.getcwd()\n",
        "print(f\"Kaggle config directory set to: {os.environ['KAGGLE_CONFIG_DIR']}\")"
      ]
    },
    {
      "cell_type": "markdown",
      "metadata": {},
      "source": [
        "#### Get the dataset path and set the destination folder"
      ]
    },
    {
      "cell_type": "code",
      "execution_count": 8,
      "metadata": {},
      "outputs": [
        {
          "name": "stdout",
          "output_type": "stream",
          "text": [
            "Warning: Your Kaggle API key is readable by other users on this system! To fix this, you can run 'chmod 600 /workspaces/milestone-project-mildew-detection-in-cherry-leaves/kaggle.json'\n",
            "Downloading cherry-leaves.zip to inputs/cherry-leaves\n",
            " 98%|█████████████████████████████████████▎| 54.0M/55.0M [00:01<00:00, 53.3MB/s]\n",
            "100%|██████████████████████████████████████| 55.0M/55.0M [00:01<00:00, 41.8MB/s]\n"
          ]
        }
      ],
      "source": [
        "KaggleDatasetPath = \"codeinstitute/cherry-leaves\"\n",
        "DestinationFolder = \"inputs/cherry-leaves\"   \n",
        "! kaggle datasets download -d {KaggleDatasetPath} -p {DestinationFolder}"
      ]
    },
    {
      "cell_type": "markdown",
      "metadata": {},
      "source": [
        "#### Unzip the downloaded file, delete the zip and the kaggle token"
      ]
    },
    {
      "cell_type": "markdown",
      "metadata": {},
      "source": [
        "---"
      ]
    },
    {
      "cell_type": "code",
      "execution_count": 9,
      "metadata": {},
      "outputs": [
        {
          "name": "stdout",
          "output_type": "stream",
          "text": [
            "Zip folder deleted succesfuly.\n",
            "Deleted kaggle.json successfully.\n",
            "Cleanup completed.\n"
          ]
        }
      ],
      "source": [
        "import zipfile\n",
        "import os\n",
        "\n",
        "# Extract ZIP file\n",
        "with zipfile.ZipFile(DestinationFolder + '/cherry-leaves.zip', 'r') as zip_ref:\n",
        "    zip_ref.extractall(DestinationFolder)\n",
        "\n",
        "# Remove the ZIP file\n",
        "os.remove(DestinationFolder + '/cherry-leaves.zip')\n",
        "print(\"Zip folder deleted succesfuly.\")\n",
        "\n",
        "# Define Kaggle.json path for GitHub Codespace (root directory)\n",
        "kaggle_json_path = os.path.join(os.getcwd(), \"kaggle.json\")  # Gets the current working directory\n",
        "\n",
        "if os.path.exists(kaggle_json_path):\n",
        "    os.remove(kaggle_json_path)\n",
        "    print(\"Deleted kaggle.json successfully.\")\n",
        "\n",
        "print(\"Cleanup completed.\")\n"
      ]
    },
    {
      "cell_type": "markdown",
      "metadata": {},
      "source": [
        "## Data Preparation"
      ]
    },
    {
      "cell_type": "markdown",
      "metadata": {},
      "source": [
        "### Check and remove non-image files"
      ]
    },
    {
      "cell_type": "code",
      "execution_count": 10,
      "metadata": {},
      "outputs": [],
      "source": [
        "\n",
        "from pathlib import Path\n",
        "\n",
        "def remove_non_image_files(my_data_dir):\n",
        "    \"\"\"\n",
        "    Removes all non-image files from the specified directory and its subfolders.\n",
        "\n",
        "    Args:\n",
        "        my_data_dir (str): Path to the directory containing image folders.\n",
        "\n",
        "    The function scans each folder within `my_data_dir`, identifies non-image files, \n",
        "    deletes them, and prints a summary of the number of image and non-image files per folder.\n",
        "    \"\"\"\n",
        "    \n",
        "    # Define valid image file extensions\n",
        "    image_extensions = ('.png', '.jpg', '.jpeg')\n",
        "    \n",
        "    # Convert the directory path to a Path object for better path handling\n",
        "    my_data_dir = Path(my_data_dir)\n",
        "\n",
        "    # Iterate through each folder in the main directory\n",
        "    for folder in my_data_dir.iterdir():\n",
        "        if folder.is_dir():  # Ensure we only process directories\n",
        "            image_count = 0\n",
        "            non_image_count = 0\n",
        "\n",
        "            # Iterate through files inside the folder\n",
        "            for given_file in folder.iterdir():\n",
        "                if not given_file.suffix.lower() in image_extensions:\n",
        "                    given_file.unlink()  # Remove non-image file\n",
        "                    non_image_count += 1\n",
        "                else:\n",
        "                    image_count += 1\n",
        "\n",
        "            # Print a summary of processed files\n",
        "            print(f\"Folder: {folder.name} - has {image_count} image files\")\n",
        "            print(f\"Folder: {folder.name} - has {non_image_count} non-image files\")"
      ]
    },
    {
      "cell_type": "markdown",
      "metadata": {},
      "source": [
        "### Call the function to remove any non-image files"
      ]
    },
    {
      "cell_type": "code",
      "execution_count": 11,
      "metadata": {},
      "outputs": [
        {
          "name": "stdout",
          "output_type": "stream",
          "text": [
            "Folder: healthy - has 2104 image files\n",
            "Folder: healthy - has 0 non-image files\n",
            "Folder: powdery_mildew - has 2104 image files\n",
            "Folder: powdery_mildew - has 0 non-image files\n"
          ]
        }
      ],
      "source": [
        "remove_non_image_files(my_data_dir=r'inputs/cherry-leaves/cherry-leaves')"
      ]
    },
    {
      "cell_type": "markdown",
      "metadata": {},
      "source": [
        "## Split train test validation test set"
      ]
    },
    {
      "cell_type": "markdown",
      "metadata": {},
      "source": [
        "Create a function to create directories for train, test and validation images and then split the data amongst the folders."
      ]
    },
    {
      "cell_type": "code",
      "execution_count": 12,
      "metadata": {},
      "outputs": [],
      "source": [
        "import os\n",
        "import shutil\n",
        "import random\n",
        "\n",
        "def split_train_validation_test_images(data_dir, train_ratio, val_ratio, test_ratio):\n",
        "    \"\"\"\n",
        "    Splits images into train, validation, and test sets based on given ratios.\n",
        "\n",
        "    Args:\n",
        "        data_dir (str): The directory containing subfolders of images, where each subfolder represents a class label.\n",
        "        train_ratio (float): The proportion of images allocated to the training set.\n",
        "        val_ratio (float): The proportion of images allocated to the validation set.\n",
        "        test_ratio (float): The proportion of images allocated to the test set.\n",
        "\n",
        "    Raises:\n",
        "        ValueError: If the sum of train_ratio, val_ratio, and test_ratio is not equal to 1.0.\n",
        "    \"\"\"\n",
        "\n",
        "    # Ensure the ratios sum to 1.0 (rounded for floating-point precision)\n",
        "    if round(train_ratio + val_ratio + test_ratio, 5) != 1.0:  # Using rounding to prevent floating-point errors\n",
        "        raise ValueError(\"train_ratio + val_ratio + test_ratio must sum to 1.0\")\n",
        "\n",
        "    # Get only directories (class labels) inside the given dataset directory\n",
        "    labels = [label for label in os.listdir(data_dir) if os.path.isdir(os.path.join(data_dir, label))]\n",
        "\n",
        "    # Create train, validation, and test directories, ensuring they exist before moving files\n",
        "    for folder in ['train', 'validation', 'test']:\n",
        "        for label in labels:\n",
        "            os.makedirs(os.path.join(data_dir, folder, label), exist_ok=True)  # Create folder if it doesn't exist\n",
        "\n",
        "    for label in labels:\n",
        "        label_path = os.path.join(data_dir, label)\n",
        "\n",
        "        # List all image files (ignoring subdirectories, if any)\n",
        "        files = [f for f in os.listdir(label_path) if os.path.isfile(os.path.join(label_path, f))]\n",
        "\n",
        "        # Shuffle the file list to ensure randomness in splits\n",
        "        random.shuffle(files)\n",
        "\n",
        "        # Calculate split indices based on the ratios\n",
        "        train_count = int(len(files) * train_ratio)  # Number of images for training\n",
        "        val_count = int(len(files) * val_ratio)  # Number of images for validation\n",
        "\n",
        "        # Iterate through files and move them to corresponding directories\n",
        "        for i, file_name in enumerate(files):\n",
        "            src = os.path.join(label_path, file_name)  # Source file path\n",
        "\n",
        "            if i < train_count:  # Move files to training folder\n",
        "                dst = os.path.join(data_dir, 'train', label, file_name)\n",
        "            elif i < train_count + val_count:  # Move files to validation folder\n",
        "                dst = os.path.join(data_dir, 'validation', label, file_name)\n",
        "            else:  # Move remaining files to test folder\n",
        "                dst = os.path.join(data_dir, 'test', label, file_name)\n",
        "\n",
        "            shutil.move(src, dst)  # Move file to the new location\n",
        "\n",
        "        # Remove the now-empty label folder after all images have been moved\n",
        "        os.rmdir(label_path)\n",
        "\n",
        "    print(\"Dataset split completed successfully.\")"
      ]
    },
    {
      "cell_type": "markdown",
      "metadata": {},
      "source": [
        "### Call the function to split the data"
      ]
    },
    {
      "cell_type": "markdown",
      "metadata": {},
      "source": [
        "Split the images with the following ratios:\n",
        "\n",
        "- Train = 70%\n",
        "- Test = 20%\n",
        "- Validation = 10%"
      ]
    },
    {
      "cell_type": "code",
      "execution_count": 13,
      "metadata": {},
      "outputs": [
        {
          "name": "stdout",
          "output_type": "stream",
          "text": [
            "Dataset split completed successfully.\n"
          ]
        }
      ],
      "source": [
        "split_train_validation_test_images(data_dir=r\"inputs/cherry-leaves/cherry-leaves\",\n",
        "                                   train_ratio=0.7,\n",
        "                                   val_ratio=0.1,\n",
        "                                   test_ratio=0.2)"
      ]
    },
    {
      "cell_type": "markdown",
      "metadata": {},
      "source": [
        "# Summary"
      ]
    },
    {
      "cell_type": "markdown",
      "metadata": {},
      "source": [
        "In this notebook we have:\n",
        "\n",
        "- Installed the required packages\n",
        "- Installed Kaggle and the authentication token\n",
        "- Downloaded the image data from kaggle.com\n",
        "- Removed the image data from the zip folder, deleted the folder and Kaggle authentication token\n",
        "- Checked the image data for any non-image files\n",
        "- Split the images into train, test and validation sets\n",
        "\n",
        "When you are ready, move on to the next notebook where we will look at Data Visualizations!"
      ]
    }
  ],
  "metadata": {
    "accelerator": "GPU",
    "colab": {
      "name": "Data Practitioner Jupyter Notebook.ipynb",
      "provenance": [],
      "toc_visible": true
    },
    "kernelspec": {
      "display_name": "3.12.1",
      "language": "python",
      "name": "python3"
    },
    "language_info": {
      "codemirror_mode": {
        "name": "ipython",
        "version": 3
      },
      "file_extension": ".py",
      "mimetype": "text/x-python",
      "name": "python",
      "nbconvert_exporter": "python",
      "pygments_lexer": "ipython3",
      "version": "3.12.1"
    },
    "orig_nbformat": 2
  },
  "nbformat": 4,
  "nbformat_minor": 2
}
